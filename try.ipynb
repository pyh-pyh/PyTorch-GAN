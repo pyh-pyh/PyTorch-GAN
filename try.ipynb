{
 "cells": [
  {
   "cell_type": "code",
   "execution_count": 2,
   "metadata": {},
   "outputs": [],
   "source": [
    "import torch\n",
    "import torch.nn as nn"
   ]
  },
  {
   "cell_type": "code",
   "execution_count": 22,
   "metadata": {},
   "outputs": [],
   "source": [
    "model = nn.Sequential(\n",
    "    nn.Linear(100, 2048)\n",
    ")"
   ]
  },
  {
   "cell_type": "code",
   "execution_count": 25,
   "metadata": {},
   "outputs": [
    {
     "data": {
      "text/plain": [
       "tensor([[[[-0.0552,  0.0198, -0.0044, -0.0162],\n",
       "          [-0.0340,  0.0733, -0.0265,  0.0961],\n",
       "          [-0.0292,  0.0742, -0.0774,  0.0010],\n",
       "          [-0.0499,  0.0806,  0.0931,  0.0258]],\n",
       "\n",
       "         [[ 0.0307, -0.0838,  0.0629,  0.0762],\n",
       "          [ 0.0269,  0.0011, -0.0585,  0.0990],\n",
       "          [-0.0478, -0.0872,  0.0584,  0.0123],\n",
       "          [ 0.0339,  0.0820, -0.0055, -0.0324]],\n",
       "\n",
       "         [[ 0.0935, -0.0577, -0.0723,  0.0058],\n",
       "          [ 0.0772,  0.0568, -0.0224,  0.0451],\n",
       "          [-0.0375,  0.0280, -0.0297,  0.0962],\n",
       "          [ 0.0128,  0.0574, -0.0406,  0.0521]],\n",
       "\n",
       "         ...,\n",
       "\n",
       "         [[ 0.0412,  0.0265,  0.0577,  0.0785],\n",
       "          [-0.0674,  0.0153,  0.0687, -0.0990],\n",
       "          [ 0.0633, -0.0793,  0.0558,  0.0879],\n",
       "          [-0.0310,  0.0839, -0.0693, -0.0272]],\n",
       "\n",
       "         [[ 0.0436, -0.0672,  0.0570, -0.0059],\n",
       "          [-0.0161, -0.0542,  0.0719, -0.0316],\n",
       "          [ 0.0425, -0.0306, -0.0799, -0.0814],\n",
       "          [-0.0747, -0.0175,  0.0609, -0.0316]],\n",
       "\n",
       "         [[-0.0739,  0.0529, -0.0349,  0.0691],\n",
       "          [-0.0306, -0.0455,  0.0886,  0.0729],\n",
       "          [-0.0613, -0.0455, -0.0347,  0.0190],\n",
       "          [-0.0006, -0.0853, -0.0654,  0.0767]]]], grad_fn=<ViewBackward>)"
      ]
     },
     "execution_count": 25,
     "metadata": {},
     "output_type": "execute_result"
    }
   ],
   "source": [
    "x = torch.empty(100).view(1,100)\n",
    "out = model(x)\n",
    "out = out.view(out.shape[0],128,4,4)\n",
    "out"
   ]
  },
  {
   "cell_type": "code",
   "execution_count": null,
   "metadata": {},
   "outputs": [],
   "source": []
  }
 ],
 "metadata": {
  "interpreter": {
   "hash": "7d264b519b56c9b9effa0b7f4c3b6e992bafbbb8cd9067c872658d44cc0f2e55"
  },
  "kernelspec": {
   "display_name": "Python 3.8.12 64-bit ('base': conda)",
   "language": "python",
   "name": "python3"
  },
  "language_info": {
   "codemirror_mode": {
    "name": "ipython",
    "version": 3
   },
   "file_extension": ".py",
   "mimetype": "text/x-python",
   "name": "python",
   "nbconvert_exporter": "python",
   "pygments_lexer": "ipython3",
   "version": "3.8.12"
  },
  "orig_nbformat": 4
 },
 "nbformat": 4,
 "nbformat_minor": 2
}
